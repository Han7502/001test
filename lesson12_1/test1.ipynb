{
 "cells": [
  {
   "cell_type": "code",
   "execution_count": 1,
   "metadata": {},
   "outputs": [],
   "source": [
    "stu1 = {\n",
    "    '姓名':'陳怡伶',\n",
    "    '國文':89,\n",
    "    '英文':92,\n",
    "    '數學':83,\n",
    "    '地理':91,\n",
    "    '歷史':65,\n",
    "    }\n",
    "stu2 = {\n",
    "    '姓名':'馮芳如',\n",
    "    '國文':92,\n",
    "    '英文':75,\n",
    "    '數學':92,\n",
    "    '地理':89,\n",
    "    '歷史':77,\n",
    "    }\n"
   ]
  },
  {
   "cell_type": "code",
   "execution_count": 2,
   "metadata": {},
   "outputs": [
    {
     "data": {
      "text/plain": [
       "[{'姓名': '陳怡伶', '國文': 89, '英文': 92, '數學': 83, '地理': 91, '歷史': 65},\n",
       " {'姓名': '馮芳如', '國文': 92, '英文': 75, '數學': 92, '地理': 89, '歷史': 77}]"
      ]
     },
     "execution_count": 2,
     "metadata": {},
     "output_type": "execute_result"
    }
   ],
   "source": [
    "students = [stu1,stu2]\n",
    "students"
   ]
  },
  {
   "cell_type": "code",
   "execution_count": 3,
   "metadata": {},
   "outputs": [],
   "source": [
    "from random import randint,choices\n",
    "\n",
    "def getStudents(nums:int) -> list[dict]:\n",
    "    students:list[dict] = []\n",
    "    with open('names.txt',mode='r',encoding='utf-8') as file:\n",
    "        names:str = file.read()\n",
    "    nameList:list[str]=names.split('\\n')\n",
    "    names:list[str] = choices(nameList, k=nums)\n",
    "    \n",
    "    for i in range(nums):\n",
    "        stu = {\n",
    "            '姓名':names[i],\n",
    "            '國文':randint(45,100),\n",
    "            '英文':randint(45,100),\n",
    "            '數學':randint(45,100),\n",
    "            '地理':randint(45,100),\n",
    "            '歷史':randint(45,100),\n",
    "            }\n",
    "        students.append(stu)\n",
    "    \n",
    "    return students\n",
    "    "
   ]
  },
  {
   "cell_type": "code",
   "execution_count": 4,
   "metadata": {},
   "outputs": [
    {
     "name": "stdout",
     "output_type": "stream",
     "text": [
      "請輸入學生的人數(1~50):"
     ]
    },
    {
     "name": "stdout",
     "output_type": "stream",
     "text": [
      "10\n"
     ]
    },
    {
     "data": {
      "text/plain": [
       "[{'姓名': '蕭淑華', '國文': 83, '英文': 53, '數學': 88, '地理': 91, '歷史': 84},\n",
       " {'姓名': '陳倩潔', '國文': 48, '英文': 53, '數學': 94, '地理': 59, '歷史': 89},\n",
       " {'姓名': '錢欣潔', '國文': 86, '英文': 70, '數學': 83, '地理': 61, '歷史': 63},\n",
       " {'姓名': '洪阿惠', '國文': 52, '英文': 45, '數學': 92, '地理': 91, '歷史': 79},\n",
       " {'姓名': '王品星', '國文': 94, '英文': 99, '數學': 47, '地理': 83, '歷史': 70},\n",
       " {'姓名': '李慈啟', '國文': 88, '英文': 76, '數學': 66, '地理': 49, '歷史': 81},\n",
       " {'姓名': '邱亭君', '國文': 95, '英文': 55, '數學': 50, '地理': 83, '歷史': 85},\n",
       " {'姓名': '楊健麟', '國文': 46, '英文': 77, '數學': 47, '地理': 96, '歷史': 47},\n",
       " {'姓名': '謝南慧', '國文': 94, '英文': 78, '數學': 91, '地理': 97, '歷史': 100},\n",
       " {'姓名': '聶心怡', '國文': 61, '英文': 88, '數學': 69, '地理': 67, '歷史': 57}]"
      ]
     },
     "execution_count": 4,
     "metadata": {},
     "output_type": "execute_result"
    }
   ],
   "source": [
    "import pyinputplus as pyip\n",
    "s_nums:int = pyip.inputInt(\"請輸入學生的人數(1~50):\",min=1,max=50)\n",
    "print(s_nums)\n",
    "students = getStudents(s_nums)\n",
    "students"
   ]
  },
  {
   "cell_type": "code",
   "execution_count": 5,
   "metadata": {},
   "outputs": [
    {
     "name": "stdout",
     "output_type": "stream",
     "text": [
      "寫入成功\n"
     ]
    }
   ],
   "source": [
    "import csv\n",
    "from csv import DictWriter\n",
    "\n",
    "def save_to_csv(students:list[dict],fileName:str)->None:\n",
    "    fileNameWithExtension:str = fileName + '.csv'\n",
    "    with open(\"class1.csv\",mode='w',encoding='utf=8',newline='') as file:\n",
    "        filenames:list[str] = ['姓名', '國文', '英文', '數學', '地理', '歷史']  \n",
    "        writer = DictWriter = csv.DictWriter(file,fieldnames=filenames)\n",
    "        writer.writeheader()\n",
    "        writer.writerows(students)\n",
    "    print(\"寫入成功\")\n",
    "\n",
    "save_to_csv(students,'class2')#呼叫save to csv->student(參數),給檔案名"
   ]
  }
 ],
 "metadata": {
  "kernelspec": {
   "display_name": "Python 3",
   "language": "python",
   "name": "python3"
  },
  "language_info": {
   "codemirror_mode": {
    "name": "ipython",
    "version": 3
   },
   "file_extension": ".py",
   "mimetype": "text/x-python",
   "name": "python",
   "nbconvert_exporter": "python",
   "pygments_lexer": "ipython3",
   "version": "3.10.14"
  }
 },
 "nbformat": 4,
 "nbformat_minor": 2
}
