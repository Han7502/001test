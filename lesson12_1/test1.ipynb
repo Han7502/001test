{
 "cells": [
  {
   "cell_type": "code",
   "execution_count": 1,
   "metadata": {},
   "outputs": [],
   "source": [
    "stu1 = {\n",
    "    '姓名':'陳怡伶',\n",
    "    '國文':89,\n",
    "    '英文':92,\n",
    "    '數學':83,\n",
    "    '地理':91,\n",
    "    '歷史':65,\n",
    "    }\n",
    "stu2 = {\n",
    "    '姓名':'馮芳如',\n",
    "    '國文':92,\n",
    "    '英文':75,\n",
    "    '數學':92,\n",
    "    '地理':89,\n",
    "    '歷史':77,\n",
    "    }\n"
   ]
  },
  {
   "cell_type": "code",
   "execution_count": 2,
   "metadata": {},
   "outputs": [
    {
     "data": {
      "text/plain": [
       "[{'姓名': '陳怡伶', '國文': 89, '英文': 92, '數學': 83, '地理': 91, '歷史': 65},\n",
       " {'姓名': '馮芳如', '國文': 92, '英文': 75, '數學': 92, '地理': 89, '歷史': 77}]"
      ]
     },
     "execution_count": 2,
     "metadata": {},
     "output_type": "execute_result"
    }
   ],
   "source": [
    "students = [stu1,stu2]\n",
    "students"
   ]
  },
  {
   "cell_type": "code",
   "execution_count": 3,
   "metadata": {},
   "outputs": [],
   "source": [
    "from random import randint,choices\n",
    "\n",
    "def getStudents(nums:int) -> list[dict]:\n",
    "    students:list[dict] = []\n",
    "    with open('names.txt',mode='r',encoding='utf-8') as file:\n",
    "        names:str = file.read()\n",
    "    nameList:list[str]=names.split('\\n')\n",
    "    names:list[str] = choices(nameList, k=nums)\n",
    "    \n",
    "    for i in range(nums):\n",
    "        stu = {\n",
    "            '姓名':names[i],\n",
    "            '國文':randint(45,100),\n",
    "            '英文':randint(45,100),\n",
    "            '數學':randint(45,100),\n",
    "            '地理':randint(45,100),\n",
    "            '歷史':randint(45,100),\n",
    "            }\n",
    "        students.append(stu)\n",
    "    \n",
    "    return students\n",
    "    "
   ]
  },
  {
   "cell_type": "code",
   "execution_count": 7,
   "metadata": {},
   "outputs": [
    {
     "name": "stdout",
     "output_type": "stream",
     "text": [
      "請輸入學生的人數(1~50):10\n"
     ]
    },
    {
     "data": {
      "text/plain": [
       "[{'姓名': '張牧聿', '國文': 91, '英文': 84, '數學': 59, '地理': 76, '歷史': 93},\n",
       " {'姓名': '林柏洋', '國文': 57, '英文': 86, '數學': 67, '地理': 58, '歷史': 49},\n",
       " {'姓名': '邱亭君', '國文': 91, '英文': 70, '數學': 67, '地理': 80, '歷史': 97},\n",
       " {'姓名': '臧怡君', '國文': 82, '英文': 83, '數學': 69, '地理': 64, '歷史': 57},\n",
       " {'姓名': '陳向愛', '國文': 64, '英文': 68, '數學': 58, '地理': 99, '歷史': 88},\n",
       " {'姓名': '林志成', '國文': 68, '英文': 83, '數學': 75, '地理': 75, '歷史': 49},\n",
       " {'姓名': '張家秀', '國文': 55, '英文': 95, '數學': 57, '地理': 55, '歷史': 97},\n",
       " {'姓名': '張俊傑', '國文': 46, '英文': 57, '數學': 95, '地理': 60, '歷史': 82},\n",
       " {'姓名': '溫重意', '國文': 73, '英文': 54, '數學': 46, '地理': 49, '歷史': 76},\n",
       " {'姓名': '謝水儒', '國文': 92, '英文': 45, '數學': 90, '地理': 55, '歷史': 67}]"
      ]
     },
     "execution_count": 7,
     "metadata": {},
     "output_type": "execute_result"
    }
   ],
   "source": [
    "import pyinputplus as pyip\n",
    "s_nums:int = pyip.inputInt(\"請輸入學生的人數(1~50):\",min=1,max=50)\n",
    "print(s_nums)\n",
    "students = getStudents(s_nums)\n",
    "students"
   ]
  }
 ],
 "metadata": {
  "kernelspec": {
   "display_name": "Python 3",
   "language": "python",
   "name": "python3"
  },
  "language_info": {
   "codemirror_mode": {
    "name": "ipython",
    "version": 3
   },
   "file_extension": ".py",
   "mimetype": "text/x-python",
   "name": "python",
   "nbconvert_exporter": "python",
   "pygments_lexer": "ipython3",
   "version": "3.10.14"
  }
 },
 "nbformat": 4,
 "nbformat_minor": 2
}
